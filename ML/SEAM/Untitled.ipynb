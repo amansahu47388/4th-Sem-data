{
 "cells": [
  {
   "cell_type": "code",
   "execution_count": 14,
   "id": "9884e5eb",
   "metadata": {},
   "outputs": [
    {
     "name": "stdout",
     "output_type": "stream",
     "text": [
      "Enter the development mode (organic, semi-detached, embedded): organic\n",
      "Enter the size of the project in KLOC (thousands of lines of code): 6\n",
      "\n",
      "COCOMO Model Results for 6.0 KLOC in Organic mode:\n",
      "Effort required: 15.75 person-months\n",
      "Development time: 7.13 months\n",
      "Number of developers: 2.21\n"
     ]
    }
   ],
   "source": [
    "def cocomo_basic(mode, kloc):\n",
    " # Coefficients for different modes\n",
    "    coefficients = {\n",
    "    'organic': {'a': 2.4, 'b': 1.05, 'c': 2.5, 'd': 0.38},\n",
    "    'semi-detached': {'a': 3.0, 'b': 1.12, 'c': 2.5, 'd': 0.35},\n",
    "    'embedded': {'a': 3.6, 'b': 1.20, 'c': 2.5, 'd': 0.32}\n",
    "    }\n",
    "\n",
    "    if mode not in coefficients:\n",
    "        raise ValueError(\"Invalid mode! Choose from 'organic', 'semi-detached', or 'embedded'.\")\n",
    "\n",
    "    a = coefficients[mode]['a']\n",
    "    b = coefficients[mode]['b']\n",
    "    c = coefficients[mode]['c']\n",
    "    d = coefficients[mode]['d']\n",
    "\n",
    "    # Effort in person-months\n",
    "    effort = a * (kloc ** b)\n",
    "\n",
    "    # Time to develop in months\n",
    "    time = c * (effort ** d)\n",
    "\n",
    "    # Number of developers required\n",
    "    developers = effort / time\n",
    "    return effort, time, developers\n",
    "\n",
    "def main():\n",
    "    mode = input(\"Enter the development mode (organic, semi-detached, embedded): \").strip().lower()\n",
    "    kloc = float(input(\"Enter the size of the project in KLOC (thousands of lines of code): \"))\n",
    "\n",
    "    effort, time, developers = cocomo_basic(mode, kloc)\n",
    "\n",
    "    print(f\"\\nCOCOMO Model Results for {kloc} KLOC in {mode.capitalize()} mode:\")\n",
    "    print(f\"Effort required: {effort:.2f} person-months\")\n",
    "    \n",
    "    print(f\"Development time: {time:.2f} months\")\n",
    "    print(f\"Number of developers: {developers:.2f}\")\n",
    "\n",
    "main()\n"
   ]
  }
 ],
 "metadata": {
  "kernelspec": {
   "display_name": "Python 3 (ipykernel)",
   "language": "python",
   "name": "python3"
  },
  "language_info": {
   "codemirror_mode": {
    "name": "ipython",
    "version": 3
   },
   "file_extension": ".py",
   "mimetype": "text/x-python",
   "name": "python",
   "nbconvert_exporter": "python",
   "pygments_lexer": "ipython3",
   "version": "3.11.3"
  }
 },
 "nbformat": 4,
 "nbformat_minor": 5
}
